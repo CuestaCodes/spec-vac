{
 "cells": [
  {
   "cell_type": "code",
   "execution_count": 48,
   "metadata": {},
   "outputs": [],
   "source": [
    "# source: \n",
    "# setup GoogleAuth\n",
    "# https://www.youtube.com/watch?v=fAxXNovO-vg\n",
    "#\n",
    "# \n",
    "# https://www.analyticsvidhya.com/blog/2020/07/read-and-update-google-spreadsheets-with-python/\n",
    "#\n",
    "# set-up gspread\n",
    "# https://www.youtube.com/watch?v=bu5wXjz2KvU\n",
    "\n",
    "# pip install pydrive\n",
    "# pip instll gspread\n",
    "# pip install pandas"
   ]
  },
  {
   "cell_type": "code",
   "execution_count": 56,
   "metadata": {},
   "outputs": [],
   "source": [
    "from pydrive.auth import GoogleAuth\n",
    "from pydrive.drive import GoogleDrive\n",
    "import gspread\n",
    "import pandas as pd"
   ]
  },
  {
   "cell_type": "code",
   "execution_count": 50,
   "metadata": {},
   "outputs": [],
   "source": [
    "# https://drive.google.com/drive/folders/1ITZ8XsIUjljOfD7RixlnSbiRxZ5lKOLn\n",
    "\n",
    "gauth = GoogleAuth()\n",
    "drive = GoogleDrive(gauth)"
   ]
  },
  {
   "cell_type": "code",
   "execution_count": 51,
   "metadata": {},
   "outputs": [],
   "source": [
    "folder_id = \"1mTl1GXYX7OdsZtnqcHb8K0bDIgprRHVw\"\n",
    "file1 = drive.CreateFile({'parents': [{'id' : folder_id}], 'title' : 'hello.txt'})"
   ]
  },
  {
   "cell_type": "code",
   "execution_count": 52,
   "metadata": {},
   "outputs": [],
   "source": [
    "file1.SetContentString('Hello world! new')"
   ]
  },
  {
   "cell_type": "code",
   "execution_count": 53,
   "metadata": {},
   "outputs": [],
   "source": [
    "# file1.Upload()"
   ]
  },
  {
   "cell_type": "code",
   "execution_count": 54,
   "metadata": {},
   "outputs": [],
   "source": [
    "# service account\n",
    "sa = gspread.service_account(filename=\"sheets_credentials.json\")"
   ]
  },
  {
   "cell_type": "code",
   "execution_count": 62,
   "metadata": {},
   "outputs": [
    {
     "data": {
      "text/plain": [
       "{'spreadsheetId': '1Uw85LHzLfssQugdxtd7HtRs_rZY9GSh5MjomV9MISN0',\n",
       " 'updatedRange': 'Sheet1!A1:N4',\n",
       " 'updatedRows': 4,\n",
       " 'updatedColumns': 14,\n",
       " 'updatedCells': 56}"
      ]
     },
     "execution_count": 62,
     "metadata": {},
     "output_type": "execute_result"
    }
   ],
   "source": [
    "sheet1 = sa.open(\"test\")\n",
    "worksheet1 = sheet1.get_worksheet(0)\n",
    "worksheet1_data = worksheet1.get_all_records()\n",
    "worksheet1_df = pd.DataFrame.from_dict(worksheet1_data)\n",
    "worksheet1_df = worksheet1_df[0:3]\n",
    "worksheet1.clear()\n",
    "# try except, if it cannot update then save the dataframe into a csv in the\n",
    "# current folder\n",
    "worksheet1.update([worksheet1_df.columns.values.tolist()] + worksheet1_df.values.tolist())\n",
    "# check that the worksheet uploaded is not empty then print out the result"
   ]
  },
  {
   "cell_type": "code",
   "execution_count": null,
   "metadata": {},
   "outputs": [],
   "source": [
    "sheet2 = sa.open(\"holiday_postcodes\")\n",
    "worksheet2 = sheet2.worksheet(\"Sheet1\")"
   ]
  },
  {
   "cell_type": "code",
   "execution_count": null,
   "metadata": {},
   "outputs": [],
   "source": []
  }
 ],
 "metadata": {
  "interpreter": {
   "hash": "7c30385780da7672900a5bb875ca282ce6dda64735de794c6539a91ce8a07ce1"
  },
  "kernelspec": {
   "display_name": "Python 3.9.6 ('.myenv': venv)",
   "language": "python",
   "name": "python3"
  },
  "language_info": {
   "codemirror_mode": {
    "name": "ipython",
    "version": 3
   },
   "file_extension": ".py",
   "mimetype": "text/x-python",
   "name": "python",
   "nbconvert_exporter": "python",
   "pygments_lexer": "ipython3",
   "version": "3.9.6"
  },
  "orig_nbformat": 4
 },
 "nbformat": 4,
 "nbformat_minor": 2
}
