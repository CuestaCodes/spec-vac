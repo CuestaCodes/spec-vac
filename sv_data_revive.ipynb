{
 "cells": [
  {
   "cell_type": "code",
   "execution_count": 1,
   "metadata": {},
   "outputs": [],
   "source": [
    "# source/s: \n",
    "# setup gspread\n",
    "# https://www.youtube.com/watch?v=bu5wXjz2KvU\n",
    "#\n",
    "# setup pydrive\n",
    "# https://www.youtube.com/watch?v=Z2kfNx3Cgsk&t=121s\n",
    "#\n",
    "# https://console.cloud.google.com\n",
    "\n",
    "# %pip install pydrive\n",
    "# %pip instll gspread\n",
    "# %pip install pandas\n",
    "# %pip install pydrive\n",
    "\n",
    "import os\n",
    "import pandas as pd\n",
    "import numpy as np\n",
    "import gspread\n",
    "from datetime import datetime\n",
    "from pydrive.auth import GoogleAuth\n",
    "from pydrive.drive import GoogleDrive"
   ]
  },
  {
   "cell_type": "code",
   "execution_count": 2,
   "metadata": {},
   "outputs": [],
   "source": [
    "# setup pydrive\n",
    "gauth = GoogleAuth()\n",
    "drive = GoogleDrive(gauth)\n",
    "\n",
    "folder = \"1XawLc3-tpec5EdxcZ6g4qCrSrd4miTeI\""
   ]
  },
  {
   "cell_type": "code",
   "execution_count": 3,
   "metadata": {},
   "outputs": [
    {
     "name": "stdout",
     "output_type": "stream",
     "text": [
      "20220506-224211.csv\n",
      "<class 'str'>\n",
      "20220506-224012.csv\n",
      "<class 'str'>\n"
     ]
    }
   ],
   "source": [
    "# list files in backup folder\n",
    "files = drive.ListFile({'q':f\"'{folder}' in parents and trashed=false\"}).GetList()\n",
    "\n",
    "for file in files:\n",
    "\tprint(file['title'])\n",
    "\tprint(type(file['title']))"
   ]
  },
  {
   "cell_type": "code",
   "execution_count": 4,
   "metadata": {},
   "outputs": [
    {
     "name": "stdout",
     "output_type": "stream",
     "text": [
      "1qC6X_QXedjCFjgUTDHr2G8zH6-FDkStX\n"
     ]
    }
   ],
   "source": [
    "# list files in backup folder\n",
    "files = drive.ListFile({'q':f\"'{folder}' in parents and trashed=false\"}).GetList()\n",
    "\n",
    "# get latest filename into a string\n",
    "# create empty series for list\n",
    "\n",
    "latest_file_id = None\n",
    "latest_file_datetime = None\n",
    "passed_first_trigger = True\n",
    "\n",
    "# algorithm that keeps the file id that is the latest datetime\n",
    "for file in files:\n",
    "\tcurrent_file_datetime = datetime.strptime(file['title'][:-4], \"%Y%m%d-%H%M%S\")\n",
    "\tcurrent_file_id = file['id']\n",
    "\n",
    "\tif passed_first_trigger:\n",
    "\t\tpassed_first_trigger = False\n",
    "\t\tlatest_file_id = current_file_id\n",
    "\t\tlatest_file_datetime = current_file_datetime\n",
    "\t\tcontinue\n",
    "\t\n",
    "\tif latest_file_datetime < current_file_datetime:\n",
    "\t\tlatest_file_id = current_file_id\n",
    "\t\tlatest_file_datetime = current_file_datetime\n",
    "\n",
    "print(latest_file_id)"
   ]
  },
  {
   "cell_type": "code",
   "execution_count": 5,
   "metadata": {},
   "outputs": [
    {
     "name": "stdout",
     "output_type": "stream",
     "text": [
      "GoogleDriveFile({'id': '1qC6X_QXedjCFjgUTDHr2G8zH6-FDkStX'})\n",
      "GoogleDriveFile({'id': '1qC6X_QXedjCFjgUTDHr2G8zH6-FDkStX', 'kind': 'drive#file', 'etag': '\"MTY1MTg0MDkzNjcyMA\"', 'selfLink': 'https://www.googleapis.com/drive/v2/files/1qC6X_QXedjCFjgUTDHr2G8zH6-FDkStX', 'webContentLink': 'https://drive.google.com/uc?id=1qC6X_QXedjCFjgUTDHr2G8zH6-FDkStX&export=download', 'alternateLink': 'https://docs.google.com/spreadsheets/d/1qC6X_QXedjCFjgUTDHr2G8zH6-FDkStX/edit?usp=drivesdk&ouid=115592825406329873823&rtpof=true&sd=true', 'embedLink': 'https://drive.google.com/file/d/1qC6X_QXedjCFjgUTDHr2G8zH6-FDkStX/preview?usp=drivesdk', 'iconLink': 'https://drive-thirdparty.googleusercontent.com/16/type/application/vnd.ms-excel', 'thumbnailLink': 'https://lh6.googleusercontent.com/tzaOysLUvpTxQCJkN1y8G850YIxVlxKRfY5Ya7zFH9jtZZYjzEmqFy1o0H1pnZrrbJ0zzrV9ZeoNEVI=s220', 'title': '20220506-224211.csv', 'mimeType': 'application/vnd.ms-excel', 'labels': {'starred': False, 'hidden': False, 'trashed': False, 'restricted': False, 'viewed': True}, 'copyRequiresWriterPermission': False, 'createdDate': '2022-05-06T12:42:14.674Z', 'modifiedDate': '2022-05-06T12:42:16.720Z', 'modifiedByMeDate': '2022-05-06T12:42:16.720Z', 'lastViewedByMeDate': '2022-05-06T12:42:14.674Z', 'markedViewedByMeDate': '1970-01-01T00:00:00.000Z', 'version': '4', 'parents': [{'kind': 'drive#parentReference', 'id': '1XawLc3-tpec5EdxcZ6g4qCrSrd4miTeI', 'selfLink': 'https://www.googleapis.com/drive/v2/files/1qC6X_QXedjCFjgUTDHr2G8zH6-FDkStX/parents/1XawLc3-tpec5EdxcZ6g4qCrSrd4miTeI', 'parentLink': 'https://www.googleapis.com/drive/v2/files/1XawLc3-tpec5EdxcZ6g4qCrSrd4miTeI', 'isRoot': False}], 'downloadUrl': 'https://www.googleapis.com/drive/v2/files/1qC6X_QXedjCFjgUTDHr2G8zH6-FDkStX?alt=media&source=downloadUrl', 'userPermission': {'kind': 'drive#permission', 'etag': '\"RfPKvlVoM3TDSWG0HhLi-XC-eIo\"', 'id': 'me', 'selfLink': 'https://www.googleapis.com/drive/v2/files/1qC6X_QXedjCFjgUTDHr2G8zH6-FDkStX/permissions/me', 'role': 'owner', 'type': 'user', 'pendingOwner': False}, 'originalFilename': '20220506-224211.csv', 'fileExtension': 'csv', 'md5Checksum': '2004cbec571398679eaa4b7ef87c0ea0', 'fileSize': '34230', 'quotaBytesUsed': '34230', 'ownerNames': ['Renel Cuesta'], 'owners': [{'kind': 'drive#user', 'displayName': 'Renel Cuesta', 'picture': {'url': 'https://lh3.googleusercontent.com/a/default-user=s64'}, 'isAuthenticatedUser': True, 'permissionId': '05200208371396899766', 'emailAddress': 'cuestacodes@gmail.com'}], 'lastModifyingUserName': 'Renel Cuesta', 'lastModifyingUser': {'kind': 'drive#user', 'displayName': 'Renel Cuesta', 'picture': {'url': 'https://lh3.googleusercontent.com/a/default-user=s64'}, 'isAuthenticatedUser': True, 'permissionId': '05200208371396899766', 'emailAddress': 'cuestacodes@gmail.com'}, 'capabilities': {'canCopy': True, 'canEdit': True}, 'editable': True, 'copyable': True, 'writersCanShare': True, 'shared': True, 'explicitlyTrashed': False, 'appDataContents': False, 'headRevisionId': '0B16NFsQFicctZGVBYVJ3eUNnemV6TDRoTm1TdEdKdUhualZNPQ', 'spaces': ['drive']})\n"
     ]
    }
   ],
   "source": [
    "# open latest backup\n",
    "# intialize GoogleDrive instance\n",
    "latest_backup_file = drive.CreateFile({'id':latest_file_id})\n",
    "print(latest_backup_file)\n",
    "# get datetime into string\n",
    "datetime_string = latest_file_datetime.strftime(\"%Y%m%d-%H%M%S\") + \".csv\"\n",
    "latest_backup_file.GetContentFile(datetime_string) # Download content\n",
    "print(latest_backup_file)\n",
    "\n",
    "# TODO: check if this error is the only one that is raised if the backup drive\n",
    "# is empty\n",
    "if latest_file_id == None:\n",
    "\traise ValueError(\"No backup file IDs.\")\n",
    "\n",
    "# open into dataframe\n",
    "# open sv data\n",
    "# clear sv data\n",
    "# replace sv data with backup"
   ]
  },
  {
   "cell_type": "code",
   "execution_count": null,
   "metadata": {},
   "outputs": [
    {
     "ename": "TypeError",
     "evalue": "strptime() takes exactly 2 arguments (1 given)",
     "output_type": "error",
     "traceback": [
      "\u001b[1;31m---------------------------------------------------------------------------\u001b[0m",
      "\u001b[1;31mTypeError\u001b[0m                                 Traceback (most recent call last)",
      "\u001b[1;32md:\\Users\\quislor\\Projects\\Speculative Vacancies\\data\\2021 (2020 data)\\cuesta\\sv_data_revive.ipynb Cell 5'\u001b[0m in \u001b[0;36m<cell line: 2>\u001b[1;34m()\u001b[0m\n\u001b[0;32m      <a href='vscode-notebook-cell:/d%3A/Users/quislor/Projects/Speculative%20Vacancies/data/2021%20%282020%20data%29/cuesta/sv_data_revive.ipynb#ch0000002?line=0'>1</a>\u001b[0m \u001b[39m# get datetime from string\u001b[39;00m\n\u001b[1;32m----> <a href='vscode-notebook-cell:/d%3A/Users/quislor/Projects/Speculative%20Vacancies/data/2021%20%282020%20data%29/cuesta/sv_data_revive.ipynb#ch0000002?line=1'>2</a>\u001b[0m date_time_object \u001b[39m=\u001b[39m datetime\u001b[39m.\u001b[39;49mstrptime(datetime_string, )\n",
      "\u001b[1;31mTypeError\u001b[0m: strptime() takes exactly 2 arguments (1 given)"
     ]
    }
   ],
   "source": [
    "# get datetime from string\n",
    "date_time_object = datetime.strptime(datetime_string, )\n",
    "\n",
    "# TODO: find the latest datetime"
   ]
  }
 ],
 "metadata": {
  "interpreter": {
   "hash": "7c30385780da7672900a5bb875ca282ce6dda64735de794c6539a91ce8a07ce1"
  },
  "kernelspec": {
   "display_name": "Python 3.9.6 ('.myenv': venv)",
   "language": "python",
   "name": "python3"
  },
  "language_info": {
   "codemirror_mode": {
    "name": "ipython",
    "version": 3
   },
   "file_extension": ".py",
   "mimetype": "text/x-python",
   "name": "python",
   "nbconvert_exporter": "python",
   "pygments_lexer": "ipython3",
   "version": "3.9.6"
  },
  "orig_nbformat": 4
 },
 "nbformat": 4,
 "nbformat_minor": 2
}
