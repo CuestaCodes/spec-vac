{
 "cells": [
  {
   "cell_type": "code",
   "execution_count": 20,
   "metadata": {},
   "outputs": [],
   "source": [
    "# source/s: \n",
    "# setup gspread\n",
    "# https://www.youtube.com/watch?v=bu5wXjz2KvU\n",
    "#\n",
    "# setup pydrive\n",
    "# https://www.youtube.com/watch?v=Z2kfNx3Cgsk&t=121s\n",
    "#\n",
    "# https://console.cloud.google.com\n",
    "\n",
    "# %pip install pydrive\n",
    "# %pip instll gspread\n",
    "# %pip install pandas\n",
    "# %pip install pydrive\n",
    "\n",
    "import os\n",
    "import pandas as pd\n",
    "import numpy as np\n",
    "import gspread\n",
    "from datetime import datetime\n",
    "from pydrive.auth import GoogleAuth\n",
    "from pydrive.drive import GoogleDrive"
   ]
  },
  {
   "cell_type": "code",
   "execution_count": 21,
   "metadata": {},
   "outputs": [],
   "source": [
    "# setup pydrive\n",
    "gauth = GoogleAuth()\n",
    "drive = GoogleDrive(gauth)\n",
    "\n",
    "folder = \"1XawLc3-tpec5EdxcZ6g4qCrSrd4miTeI\""
   ]
  },
  {
   "cell_type": "code",
   "execution_count": 22,
   "metadata": {},
   "outputs": [],
   "source": [
    "# setup service account\n",
    "sa = gspread.service_account(filename=\"sheets_credentials.json\")"
   ]
  },
  {
   "cell_type": "code",
   "execution_count": 23,
   "metadata": {},
   "outputs": [
    {
     "name": "stdout",
     "output_type": "stream",
     "text": [
      "20220512-085725.csv\n",
      "<class 'str'>\n",
      "20220512-085630.csv\n",
      "<class 'str'>\n",
      "20220512-085128.csv\n",
      "<class 'str'>\n",
      "20220512-085004.csv\n",
      "<class 'str'>\n",
      "20220512-084358.csv\n",
      "<class 'str'>\n",
      "20220512-084242.csv\n",
      "<class 'str'>\n",
      "20220512-084000.csv\n",
      "<class 'str'>\n",
      "20220506-233145.csv\n",
      "<class 'str'>\n",
      "20220506-224211.csv\n",
      "<class 'str'>\n",
      "20220506-224012.csv\n",
      "<class 'str'>\n"
     ]
    }
   ],
   "source": [
    "# list files in backup folder\n",
    "files = drive.ListFile({'q':f\"'{folder}' in parents and trashed=false\"}).GetList()\n",
    "\n",
    "for file in files:\n",
    "\tprint(file['title'])\n",
    "\tprint(type(file['title']))"
   ]
  },
  {
   "cell_type": "code",
   "execution_count": 24,
   "metadata": {},
   "outputs": [
    {
     "name": "stdout",
     "output_type": "stream",
     "text": [
      "1ehO21mBuyVCpy3d6QxEDca0GJRNyfL-Y\n"
     ]
    }
   ],
   "source": [
    "# list files in backup folder\n",
    "files = drive.ListFile({'q':f\"'{folder}' in parents and trashed=false\"}).GetList()\n",
    "\n",
    "# get latest filename into a string\n",
    "# create empty series for list\n",
    "\n",
    "latest_file_id = None\n",
    "latest_file_datetime = None\n",
    "passed_first_trigger = True\n",
    "\n",
    "# algorithm that keeps the file id that is the latest datetime\n",
    "for file in files:\n",
    "\tcurrent_file_datetime = datetime.strptime(file['title'][:-4], \"%Y%m%d-%H%M%S\")\n",
    "\tcurrent_file_id = file['id']\n",
    "\n",
    "\tif passed_first_trigger:\n",
    "\t\tpassed_first_trigger = False\n",
    "\t\tlatest_file_id = current_file_id\n",
    "\t\tlatest_file_datetime = current_file_datetime\n",
    "\t\tcontinue\n",
    "\t\n",
    "\tif latest_file_datetime < current_file_datetime:\n",
    "\t\tlatest_file_id = current_file_id\n",
    "\t\tlatest_file_datetime = current_file_datetime\n",
    "\n",
    "print(latest_file_id)"
   ]
  },
  {
   "cell_type": "code",
   "execution_count": 25,
   "metadata": {},
   "outputs": [],
   "source": [
    "# download csv locally!!!\n",
    "# local backup location\n",
    "backup_dir = os.getcwd() + \"\\\\backup\\\\\"\n",
    "# open latest backup\n",
    "latest_backup_file = drive.CreateFile({'id':latest_file_id})\n",
    "\n",
    "# get datetime into string\n",
    "datetime_string = latest_file_datetime.strftime(\"%Y%m%d-%H%M%S\") + \".csv\"\n",
    "backup_dl_path = backup_dir + datetime_string\n",
    "\n",
    "latest_backup_file.GetContentFile(backup_dl_path) # Download content\n",
    "\n",
    "\n",
    "\n",
    "# TODO: check if this error is the only one that is raised if the backup drive\n",
    "# is empty ANSWER: it is not, see latest\n",
    "if latest_file_id == None:\n",
    "\traise ValueError(\"No backup file IDs.\")\n",
    "\n",
    "# open into dataframe\n",
    "# open sv data\n",
    "# clear sv data\n",
    "# replace sv data with backup"
   ]
  },
  {
   "cell_type": "code",
   "execution_count": 26,
   "metadata": {},
   "outputs": [
    {
     "data": {
      "text/html": [
       "<div>\n",
       "<style scoped>\n",
       "    .dataframe tbody tr th:only-of-type {\n",
       "        vertical-align: middle;\n",
       "    }\n",
       "\n",
       "    .dataframe tbody tr th {\n",
       "        vertical-align: top;\n",
       "    }\n",
       "\n",
       "    .dataframe thead th {\n",
       "        text-align: right;\n",
       "    }\n",
       "</style>\n",
       "<table border=\"1\" class=\"dataframe\">\n",
       "  <thead>\n",
       "    <tr style=\"text-align: right;\">\n",
       "      <th></th>\n",
       "      <th>YEAR</th>\n",
       "      <th>RETAILER</th>\n",
       "      <th>PROPERTY_TYPE</th>\n",
       "      <th>TOTAL_DWELLING</th>\n",
       "      <th>POSTCODE</th>\n",
       "      <th>0L_DAY</th>\n",
       "      <th>RATIO_0</th>\n",
       "      <th>50L_DAY</th>\n",
       "      <th>RATIO_50</th>\n",
       "      <th>EXEMPT_TAX_AREA</th>\n",
       "      <th>HOLIDAY</th>\n",
       "      <th>LOCALITY</th>\n",
       "    </tr>\n",
       "  </thead>\n",
       "  <tbody>\n",
       "    <tr>\n",
       "      <th>0</th>\n",
       "      <td>2020</td>\n",
       "      <td>GWW</td>\n",
       "      <td>residential</td>\n",
       "      <td>25825</td>\n",
       "      <td>3000</td>\n",
       "      <td>331</td>\n",
       "      <td>1.281704</td>\n",
       "      <td>3339</td>\n",
       "      <td>12.92933</td>\n",
       "      <td>tax</td>\n",
       "      <td>False</td>\n",
       "      <td></td>\n",
       "    </tr>\n",
       "    <tr>\n",
       "      <th>1</th>\n",
       "      <td>2020</td>\n",
       "      <td>GWW</td>\n",
       "      <td>residential</td>\n",
       "      <td>2296</td>\n",
       "      <td>3002</td>\n",
       "      <td>11</td>\n",
       "      <td>0.479094</td>\n",
       "      <td>250</td>\n",
       "      <td>10.8885</td>\n",
       "      <td>tax</td>\n",
       "      <td>False</td>\n",
       "      <td>EAST MELBOURNE | E MELBOURNE | JOLIMONT | MELB...</td>\n",
       "    </tr>\n",
       "    <tr>\n",
       "      <th>2</th>\n",
       "      <td>2020</td>\n",
       "      <td>GWW</td>\n",
       "      <td>residential</td>\n",
       "      <td>4061</td>\n",
       "      <td>3003</td>\n",
       "      <td>35</td>\n",
       "      <td>0.861857</td>\n",
       "      <td>340</td>\n",
       "      <td>8.372322</td>\n",
       "      <td>tax</td>\n",
       "      <td>False</td>\n",
       "      <td>WEST MELBOURNE | MELBOURNE | MELBOURNE WEST | ...</td>\n",
       "    </tr>\n",
       "    <tr>\n",
       "      <th>3</th>\n",
       "      <td>2020</td>\n",
       "      <td>GWW</td>\n",
       "      <td>residential</td>\n",
       "      <td>6506</td>\n",
       "      <td>3008</td>\n",
       "      <td>75</td>\n",
       "      <td>1.152782</td>\n",
       "      <td>711</td>\n",
       "      <td>10.92837</td>\n",
       "      <td>tax</td>\n",
       "      <td>False</td>\n",
       "      <td>DOCKLANDS | WORLD TRADE CENTRE</td>\n",
       "    </tr>\n",
       "    <tr>\n",
       "      <th>4</th>\n",
       "      <td>2020</td>\n",
       "      <td>GWW</td>\n",
       "      <td>residential</td>\n",
       "      <td>10221</td>\n",
       "      <td>3011</td>\n",
       "      <td>190</td>\n",
       "      <td>1.858918</td>\n",
       "      <td>454</td>\n",
       "      <td>4.441835</td>\n",
       "      <td>tax</td>\n",
       "      <td>False</td>\n",
       "      <td>FOOTSCRAY | FOOTSCRAY WEST | SEDDON WEST | WES...</td>\n",
       "    </tr>\n",
       "  </tbody>\n",
       "</table>\n",
       "</div>"
      ],
      "text/plain": [
       "   YEAR RETAILER PROPERTY_TYPE  TOTAL_DWELLING  POSTCODE  0L_DAY   RATIO_0  \\\n",
       "0  2020      GWW   residential           25825      3000     331  1.281704   \n",
       "1  2020      GWW   residential            2296      3002      11  0.479094   \n",
       "2  2020      GWW   residential            4061      3003      35  0.861857   \n",
       "3  2020      GWW   residential            6506      3008      75  1.152782   \n",
       "4  2020      GWW   residential           10221      3011     190  1.858918   \n",
       "\n",
       "   50L_DAY  RATIO_50 EXEMPT_TAX_AREA  HOLIDAY  \\\n",
       "0     3339  12.92933             tax    False   \n",
       "1      250   10.8885             tax    False   \n",
       "2      340  8.372322             tax    False   \n",
       "3      711  10.92837             tax    False   \n",
       "4      454  4.441835             tax    False   \n",
       "\n",
       "                                            LOCALITY  \n",
       "0                                                     \n",
       "1  EAST MELBOURNE | E MELBOURNE | JOLIMONT | MELB...  \n",
       "2  WEST MELBOURNE | MELBOURNE | MELBOURNE WEST | ...  \n",
       "3                     DOCKLANDS | WORLD TRADE CENTRE  \n",
       "4  FOOTSCRAY | FOOTSCRAY WEST | SEDDON WEST | WES...  "
      ]
     },
     "execution_count": 26,
     "metadata": {},
     "output_type": "execute_result"
    }
   ],
   "source": [
    "# open csv locally into dataframe\n",
    "backup_df = pd.read_csv(backup_dl_path)\n",
    "\n",
    "# delete backup_dl_file\n",
    "os.remove(backup_dl_path)\n",
    "\n",
    "backup_df = backup_df.fillna('')\n",
    "backup_df.head()"
   ]
  },
  {
   "cell_type": "code",
   "execution_count": 27,
   "metadata": {},
   "outputs": [
    {
     "data": {
      "text/plain": [
       "{'spreadsheetId': '1xktogQXx9ls0t_KxM3UvP81MdmX05Y9Oqp60aaA5fv8',\n",
       " 'updatedRange': 'Sheet1!A1:L540',\n",
       " 'updatedRows': 540,\n",
       " 'updatedColumns': 12,\n",
       " 'updatedCells': 6480}"
      ]
     },
     "execution_count": 27,
     "metadata": {},
     "output_type": "execute_result"
    }
   ],
   "source": [
    "# open sv_total\n",
    "sv_total_data_sh = sa.open(\"sv_total_data\")\n",
    "\n",
    "# get sheet, clear and update\n",
    "sv_total_data_ws = sv_total_data_sh.get_worksheet(0)\n",
    "sv_total_data_ws.clear()\n",
    "sv_total_data_ws.update([backup_df.columns.values.tolist()] + backup_df.values.tolist())"
   ]
  }
 ],
 "metadata": {
  "interpreter": {
   "hash": "32429e31c675dce8098103dc5b608a93bad195750c4d7d0bd1ec567f0dc09ce5"
  },
  "kernelspec": {
   "display_name": "Python 3.9.6 ('.myenv': venv)",
   "language": "python",
   "name": "python3"
  },
  "language_info": {
   "codemirror_mode": {
    "name": "ipython",
    "version": 3
   },
   "file_extension": ".py",
   "mimetype": "text/x-python",
   "name": "python",
   "nbconvert_exporter": "python",
   "pygments_lexer": "ipython3",
   "version": "3.9.6"
  },
  "orig_nbformat": 4
 },
 "nbformat": 4,
 "nbformat_minor": 2
}
