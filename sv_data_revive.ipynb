{
 "cells": [
  {
   "cell_type": "code",
   "execution_count": 1,
   "metadata": {},
   "outputs": [],
   "source": [
    "# source/s: \n",
    "# setup gspread\n",
    "# https://www.youtube.com/watch?v=bu5wXjz2KvU\n",
    "#\n",
    "# setup pydrive\n",
    "# https://www.youtube.com/watch?v=Z2kfNx3Cgsk&t=121s\n",
    "#\n",
    "# https://console.cloud.google.com\n",
    "\n",
    "# pip install pydrive\n",
    "# pip instll gspread\n",
    "# pip install pandas\n",
    "# pip install pydrive\n",
    "\n",
    "import os\n",
    "import pandas as pd\n",
    "import numpy as np\n",
    "import gspread\n",
    "from datetime import datetime\n",
    "from pydrive.auth import GoogleAuth\n",
    "from pydrive.drive import GoogleDrive"
   ]
  },
  {
   "cell_type": "code",
   "execution_count": 4,
   "metadata": {},
   "outputs": [],
   "source": [
    "# setup pydrive\n",
    "gauth = GoogleAuth()\n",
    "drive = GoogleDrive(gauth)\n",
    "\n",
    "folder = \"1XawLc3-tpec5EdxcZ6g4qCrSrd4miTeI\""
   ]
  },
  {
   "cell_type": "code",
   "execution_count": 40,
   "metadata": {},
   "outputs": [
    {
     "name": "stdout",
     "output_type": "stream",
     "text": [
      "2022-05-06 08:16:42\n"
     ]
    }
   ],
   "source": [
    "# list files in backup folder\n",
    "files = drive.ListFile({'q':f\"'{folder}' in parents and trashed=false\"}).GetList()\n",
    "\n",
    "# create empty series for list\n",
    "file_list = list()\n",
    "\n",
    "for file in files:\n",
    "\tfile_list.append(datetime.strptime(file['title'][:-4], \"%Y%m%d-%H%M%S\"))\n",
    "\n",
    "file_series = pd.Series(file_list)\n",
    "print(max(file_series))"
   ]
  },
  {
   "cell_type": "code",
   "execution_count": null,
   "metadata": {},
   "outputs": [],
   "source": [
    "# get datetime from string\n",
    "date_time_object = datetime.strptime(datetime_string, )\n",
    "\n",
    "# TODO: find the latest datetime"
   ]
  }
 ],
 "metadata": {
  "interpreter": {
   "hash": "7c30385780da7672900a5bb875ca282ce6dda64735de794c6539a91ce8a07ce1"
  },
  "kernelspec": {
   "display_name": "Python 3.9.6 ('.myenv': venv)",
   "language": "python",
   "name": "python3"
  },
  "language_info": {
   "codemirror_mode": {
    "name": "ipython",
    "version": 3
   },
   "file_extension": ".py",
   "mimetype": "text/x-python",
   "name": "python",
   "nbconvert_exporter": "python",
   "pygments_lexer": "ipython3",
   "version": "3.9.6"
  },
  "orig_nbformat": 4
 },
 "nbformat": 4,
 "nbformat_minor": 2
}
