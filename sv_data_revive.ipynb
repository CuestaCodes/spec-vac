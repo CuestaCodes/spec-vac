{
 "cells": [
  {
   "cell_type": "code",
   "execution_count": 1,
   "metadata": {},
   "outputs": [],
   "source": [
    "# source/s: \n",
    "# setup gspread\n",
    "# https://www.youtube.com/watch?v=bu5wXjz2KvU\n",
    "#\n",
    "# setup pydrive\n",
    "# https://www.youtube.com/watch?v=Z2kfNx3Cgsk&t=121s\n",
    "#\n",
    "# https://console.cloud.google.com\n",
    "\n",
    "# %pip install pydrive\n",
    "# %pip instll gspread\n",
    "# %pip install pandas\n",
    "# %pip install pydrive\n",
    "\n",
    "import os\n",
    "import pandas as pd\n",
    "import numpy as np\n",
    "import gspread\n",
    "from datetime import datetime\n",
    "from pydrive.auth import GoogleAuth\n",
    "from pydrive.drive import GoogleDrive"
   ]
  },
  {
   "cell_type": "code",
   "execution_count": 2,
   "metadata": {},
   "outputs": [],
   "source": [
    "# setup pydrive\n",
    "gauth = GoogleAuth()\n",
    "drive = GoogleDrive(gauth)\n",
    "\n",
    "folder = \"1XawLc3-tpec5EdxcZ6g4qCrSrd4miTeI\""
   ]
  },
  {
   "cell_type": "code",
   "execution_count": 3,
   "metadata": {},
   "outputs": [
    {
     "name": "stdout",
     "output_type": "stream",
     "text": [
      "20220506-224211.csv\n",
      "<class 'str'>\n",
      "20220506-224012.csv\n",
      "<class 'str'>\n"
     ]
    }
   ],
   "source": [
    "# list files in backup folder\n",
    "files = drive.ListFile({'q':f\"'{folder}' in parents and trashed=false\"}).GetList()\n",
    "\n",
    "for file in files:\n",
    "\tprint(file['title'])\n",
    "\tprint(type(file['title']))"
   ]
  },
  {
   "cell_type": "code",
   "execution_count": 4,
   "metadata": {},
   "outputs": [
    {
     "name": "stdout",
     "output_type": "stream",
     "text": [
      "1qC6X_QXedjCFjgUTDHr2G8zH6-FDkStX\n"
     ]
    }
   ],
   "source": [
    "# list files in backup folder\n",
    "files = drive.ListFile({'q':f\"'{folder}' in parents and trashed=false\"}).GetList()\n",
    "\n",
    "# get latest filename into a string\n",
    "# create empty series for list\n",
    "\n",
    "latest_file_id = None\n",
    "latest_file_datetime = None\n",
    "passed_first_trigger = True\n",
    "\n",
    "# algorithm that keeps the file id that is the latest datetime\n",
    "for file in files:\n",
    "\tcurrent_file_datetime = datetime.strptime(file['title'][:-4], \"%Y%m%d-%H%M%S\")\n",
    "\tcurrent_file_id = file['id']\n",
    "\n",
    "\tif passed_first_trigger:\n",
    "\t\tpassed_first_trigger = False\n",
    "\t\tlatest_file_id = current_file_id\n",
    "\t\tlatest_file_datetime = current_file_datetime\n",
    "\t\tcontinue\n",
    "\t\n",
    "\tif latest_file_datetime < current_file_datetime:\n",
    "\t\tlatest_file_id = current_file_id\n",
    "\t\tlatest_file_datetime = current_file_datetime\n",
    "\n",
    "print(latest_file_id)"
   ]
  },
  {
   "cell_type": "code",
   "execution_count": 15,
   "metadata": {},
   "outputs": [],
   "source": [
    "# download csv locally!!!\n",
    "# local backup location\n",
    "backup_dir = os.getcwd() + \"\\\\backup\\\\\"\n",
    "# open latest backup\n",
    "latest_backup_file = drive.CreateFile({'id':latest_file_id})\n",
    "\n",
    "# get datetime into string\n",
    "datetime_string = latest_file_datetime.strftime(\"%Y%m%d-%H%M%S\") + \".csv\"\n",
    "backup_dl_path = backup_dir + datetime_string\n",
    "\n",
    "latest_backup_file.GetContentFile(backup_dl_path) # Download content\n",
    "\n",
    "\n",
    "\n",
    "# TODO: check if this error is the only one that is raised if the backup drive\n",
    "# is empty ANSWER: it is not, see latest\n",
    "if latest_file_id == None:\n",
    "\traise ValueError(\"No backup file IDs.\")\n",
    "\n",
    "# open into dataframe\n",
    "# open sv data\n",
    "# clear sv data\n",
    "# replace sv data with backup"
   ]
  },
  {
   "cell_type": "code",
   "execution_count": 16,
   "metadata": {},
   "outputs": [
    {
     "data": {
      "text/html": [
       "<div>\n",
       "<style scoped>\n",
       "    .dataframe tbody tr th:only-of-type {\n",
       "        vertical-align: middle;\n",
       "    }\n",
       "\n",
       "    .dataframe tbody tr th {\n",
       "        vertical-align: top;\n",
       "    }\n",
       "\n",
       "    .dataframe thead th {\n",
       "        text-align: right;\n",
       "    }\n",
       "</style>\n",
       "<table border=\"1\" class=\"dataframe\">\n",
       "  <thead>\n",
       "    <tr style=\"text-align: right;\">\n",
       "      <th></th>\n",
       "      <th>YEAR</th>\n",
       "      <th>RETAILER</th>\n",
       "      <th>PROPERTY_TYPE</th>\n",
       "      <th>TOTAL_DWELLING</th>\n",
       "      <th>POSTCODE</th>\n",
       "      <th>0L_DAY</th>\n",
       "      <th>RATIO_0</th>\n",
       "      <th>50L_DAY</th>\n",
       "      <th>RATIO_50</th>\n",
       "      <th>EXEMPT_TAX_AREA</th>\n",
       "      <th>HOLIDAY</th>\n",
       "    </tr>\n",
       "  </thead>\n",
       "  <tbody>\n",
       "    <tr>\n",
       "      <th>0</th>\n",
       "      <td>2020</td>\n",
       "      <td>GWW</td>\n",
       "      <td>residential</td>\n",
       "      <td>25825</td>\n",
       "      <td>3000</td>\n",
       "      <td>331</td>\n",
       "      <td>1.281704</td>\n",
       "      <td>3339</td>\n",
       "      <td>12.929330</td>\n",
       "      <td>tax</td>\n",
       "      <td>False</td>\n",
       "    </tr>\n",
       "    <tr>\n",
       "      <th>1</th>\n",
       "      <td>2020</td>\n",
       "      <td>GWW</td>\n",
       "      <td>residential</td>\n",
       "      <td>2296</td>\n",
       "      <td>3002</td>\n",
       "      <td>11</td>\n",
       "      <td>0.479094</td>\n",
       "      <td>250</td>\n",
       "      <td>10.888500</td>\n",
       "      <td>tax</td>\n",
       "      <td>False</td>\n",
       "    </tr>\n",
       "    <tr>\n",
       "      <th>2</th>\n",
       "      <td>2020</td>\n",
       "      <td>GWW</td>\n",
       "      <td>residential</td>\n",
       "      <td>4061</td>\n",
       "      <td>3003</td>\n",
       "      <td>35</td>\n",
       "      <td>0.861857</td>\n",
       "      <td>340</td>\n",
       "      <td>8.372322</td>\n",
       "      <td>tax</td>\n",
       "      <td>False</td>\n",
       "    </tr>\n",
       "    <tr>\n",
       "      <th>3</th>\n",
       "      <td>2020</td>\n",
       "      <td>GWW</td>\n",
       "      <td>residential</td>\n",
       "      <td>6506</td>\n",
       "      <td>3008</td>\n",
       "      <td>75</td>\n",
       "      <td>1.152782</td>\n",
       "      <td>711</td>\n",
       "      <td>10.928370</td>\n",
       "      <td>tax</td>\n",
       "      <td>False</td>\n",
       "    </tr>\n",
       "    <tr>\n",
       "      <th>4</th>\n",
       "      <td>2020</td>\n",
       "      <td>GWW</td>\n",
       "      <td>residential</td>\n",
       "      <td>10221</td>\n",
       "      <td>3011</td>\n",
       "      <td>190</td>\n",
       "      <td>1.858918</td>\n",
       "      <td>454</td>\n",
       "      <td>4.441835</td>\n",
       "      <td>tax</td>\n",
       "      <td>False</td>\n",
       "    </tr>\n",
       "  </tbody>\n",
       "</table>\n",
       "</div>"
      ],
      "text/plain": [
       "   YEAR RETAILER PROPERTY_TYPE  TOTAL_DWELLING  POSTCODE  0L_DAY   RATIO_0  \\\n",
       "0  2020      GWW   residential           25825      3000     331  1.281704   \n",
       "1  2020      GWW   residential            2296      3002      11  0.479094   \n",
       "2  2020      GWW   residential            4061      3003      35  0.861857   \n",
       "3  2020      GWW   residential            6506      3008      75  1.152782   \n",
       "4  2020      GWW   residential           10221      3011     190  1.858918   \n",
       "\n",
       "   50L_DAY   RATIO_50 EXEMPT_TAX_AREA  HOLIDAY  \n",
       "0     3339  12.929330             tax    False  \n",
       "1      250  10.888500             tax    False  \n",
       "2      340   8.372322             tax    False  \n",
       "3      711  10.928370             tax    False  \n",
       "4      454   4.441835             tax    False  "
      ]
     },
     "execution_count": 16,
     "metadata": {},
     "output_type": "execute_result"
    }
   ],
   "source": [
    "# open csv locally into dataframe\n",
    "backup_df = pd.read_csv(backup_dl_path)\n",
    "\n",
    "# delete backup_dl_file\n",
    "os.remove(backup_dl_path)\n",
    "\n",
    "backup_df.head()"
   ]
  },
  {
   "cell_type": "code",
   "execution_count": null,
   "metadata": {},
   "outputs": [
    {
     "ename": "TypeError",
     "evalue": "strptime() takes exactly 2 arguments (1 given)",
     "output_type": "error",
     "traceback": [
      "\u001b[1;31m---------------------------------------------------------------------------\u001b[0m",
      "\u001b[1;31mTypeError\u001b[0m                                 Traceback (most recent call last)",
      "\u001b[1;32md:\\Users\\quislor\\Projects\\Speculative Vacancies\\data\\2021 (2020 data)\\cuesta\\sv_data_revive.ipynb Cell 5'\u001b[0m in \u001b[0;36m<cell line: 2>\u001b[1;34m()\u001b[0m\n\u001b[0;32m      <a href='vscode-notebook-cell:/d%3A/Users/quislor/Projects/Speculative%20Vacancies/data/2021%20%282020%20data%29/cuesta/sv_data_revive.ipynb#ch0000002?line=0'>1</a>\u001b[0m \u001b[39m# get datetime from string\u001b[39;00m\n\u001b[1;32m----> <a href='vscode-notebook-cell:/d%3A/Users/quislor/Projects/Speculative%20Vacancies/data/2021%20%282020%20data%29/cuesta/sv_data_revive.ipynb#ch0000002?line=1'>2</a>\u001b[0m date_time_object \u001b[39m=\u001b[39m datetime\u001b[39m.\u001b[39;49mstrptime(datetime_string, )\n",
      "\u001b[1;31mTypeError\u001b[0m: strptime() takes exactly 2 arguments (1 given)"
     ]
    }
   ],
   "source": [
    "# get datetime from string\n",
    "date_time_object = datetime.strptime(datetime_string, )\n",
    "\n",
    "# TODO: find the latest datetime"
   ]
  }
 ],
 "metadata": {
  "interpreter": {
   "hash": "7c30385780da7672900a5bb875ca282ce6dda64735de794c6539a91ce8a07ce1"
  },
  "kernelspec": {
   "display_name": "Python 3.9.6 ('.myenv': venv)",
   "language": "python",
   "name": "python3"
  },
  "language_info": {
   "codemirror_mode": {
    "name": "ipython",
    "version": 3
   },
   "file_extension": ".py",
   "mimetype": "text/x-python",
   "name": "python",
   "nbconvert_exporter": "python",
   "pygments_lexer": "ipython3",
   "version": "3.9.6"
  },
  "orig_nbformat": 4
 },
 "nbformat": 4,
 "nbformat_minor": 2
}
